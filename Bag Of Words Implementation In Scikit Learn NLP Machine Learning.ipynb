{
 "cells": [
  {
   "cell_type": "code",
   "execution_count": 21,
   "id": "c5891caa",
   "metadata": {},
   "outputs": [
    {
     "data": {
      "text/plain": [
       "['money gets is money', 'people earn money', 'money make money nice']"
      ]
     },
     "execution_count": 21,
     "metadata": {},
     "output_type": "execute_result"
    }
   ],
   "source": [
    "from sklearn.feature_extraction.text import CountVectorizer\n",
    "\n",
    "\n",
    "# Sample text data (documents)\n",
    "documents =  [\n",
    "    \"money gets is money\",\n",
    "    \"people earn money\",\n",
    "    \"money make money nice\"\n",
    "]\n",
    "\n",
    "\n",
    "documents\n"
   ]
  },
  {
   "cell_type": "code",
   "execution_count": 22,
   "id": "28f5d894",
   "metadata": {},
   "outputs": [
    {
     "data": {
      "text/plain": [
       "array([[0, 1, 0, 2, 0, 0],\n",
       "       [1, 0, 0, 1, 0, 1],\n",
       "       [0, 0, 1, 2, 1, 0]], dtype=int64)"
      ]
     },
     "execution_count": 22,
     "metadata": {},
     "output_type": "execute_result"
    }
   ],
   "source": [
    "# Initialize CountVectorizer with multiple parameters\n",
    "#stop_words='english',  # Remove common English stop words\n",
    "    #ngram_range=(1, 2),    # Use unigrams and bigrams\n",
    "    #max_df=0.85,           # Ignore words that appear in more than 85% of the documents\n",
    "    #min_df=2,              # Ignore words that appear in fewer than 2 documents\n",
    "    #max_features=5         # Only keep the top 5 features\n",
    "    \n",
    "vectorizer = CountVectorizer(stop_words='english')\n",
    "\n",
    "\n",
    "# Fit the model and transform the documents into word vectors\n",
    "X = vectorizer.fit_transform(documents)\n",
    "\n",
    "X.toarray()"
   ]
  },
  {
   "cell_type": "code",
   "execution_count": 17,
   "id": "32fe2939",
   "metadata": {},
   "outputs": [
    {
     "name": "stdout",
     "output_type": "stream",
     "text": [
      "\n",
      "Vocabulary with index\n",
      "{'money': 3, 'gets': 1, 'people': 4, 'earn': 0, 'make': 2}\n",
      "\n",
      "Feature Names (Vocabulary):\n",
      "['earn' 'gets' 'make' 'money' 'people']\n"
     ]
    }
   ],
   "source": [
    "# Get feature names (vocabulary)\n",
    "print(\"\\nVocabulary with index\")\n",
    "print(vectorizer.vocabulary_)\n",
    "print(\"\\nFeature Names (Vocabulary):\")\n",
    "print(vectorizer.get_feature_names_out())"
   ]
  },
  {
   "cell_type": "code",
   "execution_count": null,
   "id": "02a53bac",
   "metadata": {},
   "outputs": [],
   "source": []
  }
 ],
 "metadata": {
  "kernelspec": {
   "display_name": "Python 3 (ipykernel)",
   "language": "python",
   "name": "python3"
  },
  "language_info": {
   "codemirror_mode": {
    "name": "ipython",
    "version": 3
   },
   "file_extension": ".py",
   "mimetype": "text/x-python",
   "name": "python",
   "nbconvert_exporter": "python",
   "pygments_lexer": "ipython3",
   "version": "3.9.12"
  }
 },
 "nbformat": 4,
 "nbformat_minor": 5
}

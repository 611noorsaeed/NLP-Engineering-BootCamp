{
 "cells": [
  {
   "cell_type": "code",
   "execution_count": 13,
   "id": "1af5b060",
   "metadata": {},
   "outputs": [],
   "source": [
    "from sklearn.feature_extraction.text import HashingVectorizer\n",
    "\n",
    "# Instantiate HashingVectorizer with custom parameters\n",
    "hash_vectorizer = HashingVectorizer(\n",
    "    n_features=10,            # Fixed feature space size (#  [10, 50, 100, 500, 1000])\n",
    "    alternate_sign=False,     # No sign alternation for features\n",
    "    dtype='float32',          # Use float32 to save memory\n",
    "    norm='l2',                # Use L2 normalization\n",
    "    binary=False              # Count occurrences instead of binary presence (by default true for 0 and 1)\n",
    ")\n",
    "s\n",
    "# Sample documents\n",
    "documents = [\n",
    "    \"The cat sat on the mat.\",\n",
    "    \"The dog sat on the log.\",\n",
    "    \"The cat and dog are friends.\"\n",
    "]\n",
    "\n",
    "# Transform the documents into feature vectors\n",
    "X = hash_vectorizer.transform(documents)\n"
   ]
  },
  {
   "cell_type": "code",
   "execution_count": 14,
   "id": "c519d795",
   "metadata": {},
   "outputs": [
    {
     "data": {
      "text/plain": [
       "array([[0.31622776, 0.31622776, 0.        , 0.        , 0.        ,\n",
       "        0.        , 0.        , 0.        , 0.6324555 , 0.6324555 ],\n",
       "       [0.35355338, 0.35355338, 0.        , 0.35355338, 0.        ,\n",
       "        0.        , 0.35355338, 0.        , 0.70710677, 0.        ],\n",
       "       [0.        , 0.        , 0.        , 0.4082483 , 0.        ,\n",
       "        0.4082483 , 0.4082483 , 0.4082483 , 0.4082483 , 0.4082483 ]],\n",
       "      dtype=float32)"
      ]
     },
     "execution_count": 14,
     "metadata": {},
     "output_type": "execute_result"
    }
   ],
   "source": [
    "# Convert to an array for better visualization\n",
    "X_array = X.toarray()\n",
    "X_array"
   ]
  },
  {
   "cell_type": "code",
   "execution_count": 15,
   "id": "491a28de",
   "metadata": {},
   "outputs": [
    {
     "data": {
      "text/html": [
       "<div>\n",
       "<style scoped>\n",
       "    .dataframe tbody tr th:only-of-type {\n",
       "        vertical-align: middle;\n",
       "    }\n",
       "\n",
       "    .dataframe tbody tr th {\n",
       "        vertical-align: top;\n",
       "    }\n",
       "\n",
       "    .dataframe thead th {\n",
       "        text-align: right;\n",
       "    }\n",
       "</style>\n",
       "<table border=\"1\" class=\"dataframe\">\n",
       "  <thead>\n",
       "    <tr style=\"text-align: right;\">\n",
       "      <th></th>\n",
       "      <th>0</th>\n",
       "      <th>1</th>\n",
       "      <th>2</th>\n",
       "      <th>3</th>\n",
       "      <th>4</th>\n",
       "      <th>5</th>\n",
       "      <th>6</th>\n",
       "      <th>7</th>\n",
       "      <th>8</th>\n",
       "      <th>9</th>\n",
       "    </tr>\n",
       "  </thead>\n",
       "  <tbody>\n",
       "    <tr>\n",
       "      <th>0</th>\n",
       "      <td>0.316228</td>\n",
       "      <td>0.316228</td>\n",
       "      <td>0.0</td>\n",
       "      <td>0.000000</td>\n",
       "      <td>0.0</td>\n",
       "      <td>0.000000</td>\n",
       "      <td>0.000000</td>\n",
       "      <td>0.000000</td>\n",
       "      <td>0.632456</td>\n",
       "      <td>0.632456</td>\n",
       "    </tr>\n",
       "    <tr>\n",
       "      <th>1</th>\n",
       "      <td>0.353553</td>\n",
       "      <td>0.353553</td>\n",
       "      <td>0.0</td>\n",
       "      <td>0.353553</td>\n",
       "      <td>0.0</td>\n",
       "      <td>0.000000</td>\n",
       "      <td>0.353553</td>\n",
       "      <td>0.000000</td>\n",
       "      <td>0.707107</td>\n",
       "      <td>0.000000</td>\n",
       "    </tr>\n",
       "    <tr>\n",
       "      <th>2</th>\n",
       "      <td>0.000000</td>\n",
       "      <td>0.000000</td>\n",
       "      <td>0.0</td>\n",
       "      <td>0.408248</td>\n",
       "      <td>0.0</td>\n",
       "      <td>0.408248</td>\n",
       "      <td>0.408248</td>\n",
       "      <td>0.408248</td>\n",
       "      <td>0.408248</td>\n",
       "      <td>0.408248</td>\n",
       "    </tr>\n",
       "  </tbody>\n",
       "</table>\n",
       "</div>"
      ],
      "text/plain": [
       "          0         1    2         3    4         5         6         7  \\\n",
       "0  0.316228  0.316228  0.0  0.000000  0.0  0.000000  0.000000  0.000000   \n",
       "1  0.353553  0.353553  0.0  0.353553  0.0  0.000000  0.353553  0.000000   \n",
       "2  0.000000  0.000000  0.0  0.408248  0.0  0.408248  0.408248  0.408248   \n",
       "\n",
       "          8         9  \n",
       "0  0.632456  0.632456  \n",
       "1  0.707107  0.000000  \n",
       "2  0.408248  0.408248  "
      ]
     },
     "execution_count": 15,
     "metadata": {},
     "output_type": "execute_result"
    }
   ],
   "source": [
    "\n",
    "# Display the hashed matrix\n",
    "import pandas as pd\n",
    "hashed_df = pd.DataFrame(X_array)\n",
    "hashed_df"
   ]
  },
  {
   "cell_type": "code",
   "execution_count": null,
   "id": "14b88d37",
   "metadata": {},
   "outputs": [],
   "source": []
  },
  {
   "cell_type": "code",
   "execution_count": null,
   "id": "8492e8e3",
   "metadata": {},
   "outputs": [],
   "source": []
  }
 ],
 "metadata": {
  "kernelspec": {
   "display_name": "Python 3 (ipykernel)",
   "language": "python",
   "name": "python3"
  },
  "language_info": {
   "codemirror_mode": {
    "name": "ipython",
    "version": 3
   },
   "file_extension": ".py",
   "mimetype": "text/x-python",
   "name": "python",
   "nbconvert_exporter": "python",
   "pygments_lexer": "ipython3",
   "version": "3.9.12"
  }
 },
 "nbformat": 4,
 "nbformat_minor": 5
}

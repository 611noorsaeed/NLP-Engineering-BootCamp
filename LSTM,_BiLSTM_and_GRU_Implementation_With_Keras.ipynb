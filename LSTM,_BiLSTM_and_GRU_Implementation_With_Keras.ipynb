{
  "nbformat": 4,
  "nbformat_minor": 0,
  "metadata": {
    "colab": {
      "provenance": []
    },
    "kernelspec": {
      "name": "python3",
      "display_name": "Python 3"
    },
    "language_info": {
      "name": "python"
    }
  },
  "cells": [
    {
      "cell_type": "markdown",
      "source": [
        "# LSTM With Keras"
      ],
      "metadata": {
        "id": "NzOz7cxMORZL"
      }
    },
    {
      "cell_type": "code",
      "execution_count": 10,
      "metadata": {
        "colab": {
          "base_uri": "https://localhost:8080/"
        },
        "id": "hHiidO-BOQv8",
        "outputId": "a83b69f2-cf4f-4686-a27e-4b750de25c78"
      },
      "outputs": [
        {
          "output_type": "execute_result",
          "data": {
            "text/plain": [
              "(['I love deep learning',\n",
              "  'LSTMs are powerful',\n",
              "  'I enjoy machine learning',\n",
              "  'Deep learning is amazing',\n",
              "  'Natural language processing is fascinating',\n",
              "  'I hate slow algorithms',\n",
              "  'Bad models produce poor results',\n",
              "  'I dislike inefficient code'],\n",
              " array([1, 1, 1, 1, 1, 0, 0, 0]))"
            ]
          },
          "metadata": {},
          "execution_count": 10
        }
      ],
      "source": [
        "import numpy as np\n",
        "import tensorflow as tf\n",
        "from tensorflow.keras.preprocessing.text import Tokenizer\n",
        "from tensorflow.keras.preprocessing.sequence import pad_sequences\n",
        "from tensorflow.keras.models import Sequential\n",
        "from tensorflow.keras.layers import Embedding, LSTM, Dense\n",
        "\n",
        "# Step 1: Define multiple training sentences\n",
        "sentences = [\n",
        "    \"I love deep learning\",\n",
        "    \"LSTMs are powerful\",\n",
        "    \"I enjoy machine learning\",\n",
        "    \"Deep learning is amazing\",\n",
        "    \"Natural language processing is fascinating\",\n",
        "    \"I hate slow algorithms\",\n",
        "    \"Bad models produce poor results\",\n",
        "    \"I dislike inefficient code\"\n",
        "]\n",
        "\n",
        "# Step 2: Assign sentiment labels (1 = Positive, 0 = Negative)\n",
        "labels = np.array([1, 1, 1, 1, 1, 0, 0, 0])\n",
        "\n",
        "\n",
        "sentences, labels"
      ]
    },
    {
      "cell_type": "code",
      "source": [
        "# Step 3: Tokenize the sentences\n",
        "tokenizer = Tokenizer()\n",
        "tokenizer.fit_on_texts(sentences)\n",
        "sequences = tokenizer.texts_to_sequences(sentences)\n",
        "\n",
        "# Step 4: Pad sequences to the same length\n",
        "max_len = max(len(seq) for seq in sequences)\n",
        "padded_sequences = pad_sequences(sequences, maxlen=max_len, padding='post')\n",
        "\n",
        "padded_sequences\n"
      ],
      "metadata": {
        "colab": {
          "base_uri": "https://localhost:8080/"
        },
        "id": "VKNFrX4_OjIl",
        "outputId": "a79405b5-13c2-421f-9ec3-397f45f88b35"
      },
      "execution_count": 12,
      "outputs": [
        {
          "output_type": "execute_result",
          "data": {
            "text/plain": [
              "array([[ 1,  5,  3,  2,  0],\n",
              "       [ 6,  7,  8,  0,  0],\n",
              "       [ 1,  9, 10,  2,  0],\n",
              "       [ 3,  2,  4, 11,  0],\n",
              "       [12, 13, 14,  4, 15],\n",
              "       [ 1, 16, 17, 18,  0],\n",
              "       [19, 20, 21, 22, 23],\n",
              "       [ 1, 24, 25, 26,  0]], dtype=int32)"
            ]
          },
          "metadata": {},
          "execution_count": 12
        }
      ]
    },
    {
      "cell_type": "code",
      "source": [
        "# Step 5: Define LSTM Model\n",
        "model = Sequential([\n",
        "    Embedding(input_dim=len(tokenizer.word_index) + 1, output_dim=8, input_length=max_len),\n",
        "    LSTM(10),  # Increase LSTM units\n",
        "    Dense(1, activation='sigmoid')  # Binary classification (0 or 1)\n",
        "])\n",
        "\n",
        "# Step 6: Compile the model\n",
        "model.compile(optimizer='adam', loss='binary_crossentropy', metrics=['accuracy'])\n",
        "\n",
        "# Step 7: Train the model with validation\n",
        "model.fit(padded_sequences, labels, epochs=10, verbose=1, validation_split=0.2)"
      ],
      "metadata": {
        "colab": {
          "base_uri": "https://localhost:8080/"
        },
        "id": "ziJyNqvnOjLW",
        "outputId": "40f15b15-722e-4824-93b7-ba9ea8f79b02"
      },
      "execution_count": 13,
      "outputs": [
        {
          "output_type": "stream",
          "name": "stdout",
          "text": [
            "Epoch 1/10\n"
          ]
        },
        {
          "output_type": "stream",
          "name": "stderr",
          "text": [
            "/usr/local/lib/python3.11/dist-packages/keras/src/layers/core/embedding.py:90: UserWarning: Argument `input_length` is deprecated. Just remove it.\n",
            "  warnings.warn(\n"
          ]
        },
        {
          "output_type": "stream",
          "name": "stdout",
          "text": [
            "\u001b[1m1/1\u001b[0m \u001b[32m━━━━━━━━━━━━━━━━━━━━\u001b[0m\u001b[37m\u001b[0m \u001b[1m3s\u001b[0m 3s/step - accuracy: 0.3333 - loss: 0.6956 - val_accuracy: 0.5000 - val_loss: 0.6939\n",
            "Epoch 2/10\n",
            "\u001b[1m1/1\u001b[0m \u001b[32m━━━━━━━━━━━━━━━━━━━━\u001b[0m\u001b[37m\u001b[0m \u001b[1m0s\u001b[0m 288ms/step - accuracy: 0.5000 - loss: 0.6928 - val_accuracy: 0.5000 - val_loss: 0.6964\n",
            "Epoch 3/10\n",
            "\u001b[1m1/1\u001b[0m \u001b[32m━━━━━━━━━━━━━━━━━━━━\u001b[0m\u001b[37m\u001b[0m \u001b[1m0s\u001b[0m 84ms/step - accuracy: 0.8333 - loss: 0.6900 - val_accuracy: 0.5000 - val_loss: 0.6990\n",
            "Epoch 4/10\n",
            "\u001b[1m1/1\u001b[0m \u001b[32m━━━━━━━━━━━━━━━━━━━━\u001b[0m\u001b[37m\u001b[0m \u001b[1m0s\u001b[0m 139ms/step - accuracy: 0.8333 - loss: 0.6873 - val_accuracy: 0.0000e+00 - val_loss: 0.7016\n",
            "Epoch 5/10\n",
            "\u001b[1m1/1\u001b[0m \u001b[32m━━━━━━━━━━━━━━━━━━━━\u001b[0m\u001b[37m\u001b[0m \u001b[1m0s\u001b[0m 98ms/step - accuracy: 0.8333 - loss: 0.6845 - val_accuracy: 0.0000e+00 - val_loss: 0.7042\n",
            "Epoch 6/10\n",
            "\u001b[1m1/1\u001b[0m \u001b[32m━━━━━━━━━━━━━━━━━━━━\u001b[0m\u001b[37m\u001b[0m \u001b[1m0s\u001b[0m 134ms/step - accuracy: 0.8333 - loss: 0.6818 - val_accuracy: 0.0000e+00 - val_loss: 0.7068\n",
            "Epoch 7/10\n",
            "\u001b[1m1/1\u001b[0m \u001b[32m━━━━━━━━━━━━━━━━━━━━\u001b[0m\u001b[37m\u001b[0m \u001b[1m0s\u001b[0m 85ms/step - accuracy: 0.8333 - loss: 0.6790 - val_accuracy: 0.0000e+00 - val_loss: 0.7095\n",
            "Epoch 8/10\n",
            "\u001b[1m1/1\u001b[0m \u001b[32m━━━━━━━━━━━━━━━━━━━━\u001b[0m\u001b[37m\u001b[0m \u001b[1m0s\u001b[0m 126ms/step - accuracy: 0.8333 - loss: 0.6763 - val_accuracy: 0.0000e+00 - val_loss: 0.7122\n",
            "Epoch 9/10\n",
            "\u001b[1m1/1\u001b[0m \u001b[32m━━━━━━━━━━━━━━━━━━━━\u001b[0m\u001b[37m\u001b[0m \u001b[1m0s\u001b[0m 100ms/step - accuracy: 0.8333 - loss: 0.6735 - val_accuracy: 0.0000e+00 - val_loss: 0.7149\n",
            "Epoch 10/10\n",
            "\u001b[1m1/1\u001b[0m \u001b[32m━━━━━━━━━━━━━━━━━━━━\u001b[0m\u001b[37m\u001b[0m \u001b[1m0s\u001b[0m 84ms/step - accuracy: 0.8333 - loss: 0.6707 - val_accuracy: 0.0000e+00 - val_loss: 0.7177\n"
          ]
        },
        {
          "output_type": "execute_result",
          "data": {
            "text/plain": [
              "<keras.src.callbacks.history.History at 0x7a6efa7ec310>"
            ]
          },
          "metadata": {},
          "execution_count": 13
        }
      ]
    },
    {
      "cell_type": "markdown",
      "source": [
        " # Full BiLSTM Training Code (Keras)"
      ],
      "metadata": {
        "id": "o61HQ2uOPjk1"
      }
    },
    {
      "cell_type": "code",
      "source": [
        "import numpy as np\n",
        "import tensorflow as tf\n",
        "from tensorflow.keras.preprocessing.text import Tokenizer\n",
        "from tensorflow.keras.preprocessing.sequence import pad_sequences\n",
        "from tensorflow.keras.models import Sequential\n",
        "from tensorflow.keras.layers import Embedding, Bidirectional, LSTM, Dense\n",
        "\n",
        "# Step 1: Define multiple training sentences\n",
        "sentences = [\n",
        "    \"I love deep learning\",\n",
        "    \"LSTMs are powerful\",\n",
        "    \"I enjoy machine learning\",\n",
        "    \"Deep learning is amazing\",\n",
        "    \"Natural language processing is fascinating\",\n",
        "    \"I hate slow algorithms\",\n",
        "    \"Bad models produce poor results\",\n",
        "    \"I dislike inefficient code\"\n",
        "]\n",
        "\n",
        "# Step 2: Assign sentiment labels (1 = Positive, 0 = Negative)\n",
        "labels = np.array([1, 1, 1, 1, 1, 0, 0, 0])\n",
        "\n",
        "# Step 3: Tokenize the sentences\n",
        "tokenizer = Tokenizer()\n",
        "tokenizer.fit_on_texts(sentences)\n",
        "sequences = tokenizer.texts_to_sequences(sentences)\n",
        "\n",
        "# Step 4: Pad sequences to the same length\n",
        "max_len = max(len(seq) for seq in sequences)\n",
        "padded_sequences = pad_sequences(sequences, maxlen=max_len, padding='post')\n",
        "\n",
        "# Step 5: Define BiLSTM Model\n",
        "model = Sequential([\n",
        "    Embedding(input_dim=len(tokenizer.word_index) + 1, output_dim=8, input_length=max_len),\n",
        "    Bidirectional(LSTM(10)),  # BiLSTM instead of LSTM\n",
        "    Dense(1, activation='sigmoid')  # Binary classification (0 or 1)\n",
        "])\n",
        "\n",
        "# Step 6: Compile the model\n",
        "model.compile(optimizer='adam', loss='binary_crossentropy', metrics=['accuracy'])\n",
        "\n",
        "# Step 7: Train the model with validation\n",
        "model.fit(padded_sequences, labels, epochs=10, verbose=1, validation_split=0.2)\n",
        "\n"
      ],
      "metadata": {
        "colab": {
          "base_uri": "https://localhost:8080/"
        },
        "id": "BdlbAZStO7-R",
        "outputId": "2b12ede9-0e48-4ef9-f38e-46dc56d0a21c"
      },
      "execution_count": 14,
      "outputs": [
        {
          "output_type": "stream",
          "name": "stdout",
          "text": [
            "Epoch 1/10\n",
            "\u001b[1m1/1\u001b[0m \u001b[32m━━━━━━━━━━━━━━━━━━━━\u001b[0m\u001b[37m\u001b[0m \u001b[1m4s\u001b[0m 4s/step - accuracy: 0.5000 - loss: 0.6931 - val_accuracy: 0.0000e+00 - val_loss: 0.6982\n",
            "Epoch 2/10\n",
            "\u001b[1m1/1\u001b[0m \u001b[32m━━━━━━━━━━━━━━━━━━━━\u001b[0m\u001b[37m\u001b[0m \u001b[1m0s\u001b[0m 177ms/step - accuracy: 0.6667 - loss: 0.6902 - val_accuracy: 0.0000e+00 - val_loss: 0.7014\n",
            "Epoch 3/10\n",
            "\u001b[1m1/1\u001b[0m \u001b[32m━━━━━━━━━━━━━━━━━━━━\u001b[0m\u001b[37m\u001b[0m \u001b[1m0s\u001b[0m 149ms/step - accuracy: 0.8333 - loss: 0.6873 - val_accuracy: 0.0000e+00 - val_loss: 0.7047\n",
            "Epoch 4/10\n",
            "\u001b[1m1/1\u001b[0m \u001b[32m━━━━━━━━━━━━━━━━━━━━\u001b[0m\u001b[37m\u001b[0m \u001b[1m0s\u001b[0m 85ms/step - accuracy: 0.8333 - loss: 0.6845 - val_accuracy: 0.0000e+00 - val_loss: 0.7079\n",
            "Epoch 5/10\n",
            "\u001b[1m1/1\u001b[0m \u001b[32m━━━━━━━━━━━━━━━━━━━━\u001b[0m\u001b[37m\u001b[0m \u001b[1m0s\u001b[0m 87ms/step - accuracy: 0.8333 - loss: 0.6816 - val_accuracy: 0.0000e+00 - val_loss: 0.7112\n",
            "Epoch 6/10\n",
            "\u001b[1m1/1\u001b[0m \u001b[32m━━━━━━━━━━━━━━━━━━━━\u001b[0m\u001b[37m\u001b[0m \u001b[1m0s\u001b[0m 86ms/step - accuracy: 0.8333 - loss: 0.6787 - val_accuracy: 0.0000e+00 - val_loss: 0.7146\n",
            "Epoch 7/10\n",
            "\u001b[1m1/1\u001b[0m \u001b[32m━━━━━━━━━━━━━━━━━━━━\u001b[0m\u001b[37m\u001b[0m \u001b[1m0s\u001b[0m 85ms/step - accuracy: 0.8333 - loss: 0.6758 - val_accuracy: 0.0000e+00 - val_loss: 0.7180\n",
            "Epoch 8/10\n",
            "\u001b[1m1/1\u001b[0m \u001b[32m━━━━━━━━━━━━━━━━━━━━\u001b[0m\u001b[37m\u001b[0m \u001b[1m0s\u001b[0m 95ms/step - accuracy: 0.8333 - loss: 0.6728 - val_accuracy: 0.0000e+00 - val_loss: 0.7214\n",
            "Epoch 9/10\n",
            "\u001b[1m1/1\u001b[0m \u001b[32m━━━━━━━━━━━━━━━━━━━━\u001b[0m\u001b[37m\u001b[0m \u001b[1m0s\u001b[0m 93ms/step - accuracy: 0.8333 - loss: 0.6699 - val_accuracy: 0.0000e+00 - val_loss: 0.7249\n",
            "Epoch 10/10\n",
            "\u001b[1m1/1\u001b[0m \u001b[32m━━━━━━━━━━━━━━━━━━━━\u001b[0m\u001b[37m\u001b[0m \u001b[1m0s\u001b[0m 87ms/step - accuracy: 0.8333 - loss: 0.6669 - val_accuracy: 0.0000e+00 - val_loss: 0.7284\n"
          ]
        },
        {
          "output_type": "execute_result",
          "data": {
            "text/plain": [
              "<keras.src.callbacks.history.History at 0x7a6ef878c310>"
            ]
          },
          "metadata": {},
          "execution_count": 14
        }
      ]
    },
    {
      "cell_type": "markdown",
      "source": [
        "#  Full GRU Training Code (Keras)"
      ],
      "metadata": {
        "id": "E0Kh8_qnP8Mp"
      }
    },
    {
      "cell_type": "code",
      "source": [
        "import numpy as np\n",
        "import tensorflow as tf\n",
        "from tensorflow.keras.preprocessing.text import Tokenizer\n",
        "from tensorflow.keras.preprocessing.sequence import pad_sequences\n",
        "from tensorflow.keras.models import Sequential\n",
        "from tensorflow.keras.layers import Embedding, GRU, Dense\n",
        "\n",
        "# Step 1: Define some training sentences\n",
        "sentences = [\n",
        "    \"I love deep learning\",\n",
        "    \"LSTMs are powerful\",\n",
        "    \"I enjoy machine learning\",\n",
        "    \"Deep learning is amazing\",\n",
        "    \"Natural language processing is fascinating\",\n",
        "    \"I hate slow algorithms\",\n",
        "    \"Bad models produce poor results\",\n",
        "    \"I dislike inefficient code\"\n",
        "]\n",
        "\n",
        "# Step 2: Assign sentiment labels (1 = Positive, 0 = Negative)\n",
        "labels = np.array([1, 1, 1, 1, 1, 0, 0, 0])\n",
        "\n",
        "# Step 3: Tokenize the sentences\n",
        "tokenizer = Tokenizer()\n",
        "tokenizer.fit_on_texts(sentences)\n",
        "sequences = tokenizer.texts_to_sequences(sentences)\n",
        "\n",
        "# Step 4: Pad sequences to ensure uniform input length\n",
        "max_len = max(len(seq) for seq in sequences)\n",
        "padded_sequences = pad_sequences(sequences, maxlen=max_len, padding='post')\n",
        "\n",
        "# Step 5: Define the GRU Model\n",
        "model = Sequential([\n",
        "    Embedding(input_dim=len(tokenizer.word_index) + 1, output_dim=8, input_length=max_len),\n",
        "    GRU(10),  # GRU instead of LSTM\n",
        "    Dense(1, activation='sigmoid')  # Binary classification (0 or 1)\n",
        "])\n",
        "\n",
        "# Step 6: Compile the model\n",
        "model.compile(optimizer='adam', loss='binary_crossentropy', metrics=['accuracy'])\n",
        "\n",
        "# Step 7: Train the model\n",
        "model.fit(padded_sequences, labels, epochs=10, verbose=1, validation_split=0.2)"
      ],
      "metadata": {
        "colab": {
          "base_uri": "https://localhost:8080/"
        },
        "id": "ciEJNYRHPpgX",
        "outputId": "6fa419ab-7189-4ba1-f0e4-40ad7082c8d4"
      },
      "execution_count": 15,
      "outputs": [
        {
          "output_type": "stream",
          "name": "stdout",
          "text": [
            "Epoch 1/10\n"
          ]
        },
        {
          "output_type": "stream",
          "name": "stderr",
          "text": [
            "/usr/local/lib/python3.11/dist-packages/keras/src/layers/core/embedding.py:90: UserWarning: Argument `input_length` is deprecated. Just remove it.\n",
            "  warnings.warn(\n"
          ]
        },
        {
          "output_type": "stream",
          "name": "stdout",
          "text": [
            "\u001b[1m1/1\u001b[0m \u001b[32m━━━━━━━━━━━━━━━━━━━━\u001b[0m\u001b[37m\u001b[0m \u001b[1m4s\u001b[0m 4s/step - accuracy: 0.3333 - loss: 0.6964 - val_accuracy: 0.5000 - val_loss: 0.6925\n",
            "Epoch 2/10\n",
            "\u001b[1m1/1\u001b[0m \u001b[32m━━━━━━━━━━━━━━━━━━━━\u001b[0m\u001b[37m\u001b[0m \u001b[1m0s\u001b[0m 89ms/step - accuracy: 0.5000 - loss: 0.6926 - val_accuracy: 0.5000 - val_loss: 0.6970\n",
            "Epoch 3/10\n",
            "\u001b[1m1/1\u001b[0m \u001b[32m━━━━━━━━━━━━━━━━━━━━\u001b[0m\u001b[37m\u001b[0m \u001b[1m0s\u001b[0m 89ms/step - accuracy: 0.6667 - loss: 0.6889 - val_accuracy: 0.0000e+00 - val_loss: 0.7015\n",
            "Epoch 4/10\n",
            "\u001b[1m1/1\u001b[0m \u001b[32m━━━━━━━━━━━━━━━━━━━━\u001b[0m\u001b[37m\u001b[0m \u001b[1m0s\u001b[0m 87ms/step - accuracy: 0.8333 - loss: 0.6852 - val_accuracy: 0.0000e+00 - val_loss: 0.7061\n",
            "Epoch 5/10\n",
            "\u001b[1m1/1\u001b[0m \u001b[32m━━━━━━━━━━━━━━━━━━━━\u001b[0m\u001b[37m\u001b[0m \u001b[1m0s\u001b[0m 143ms/step - accuracy: 0.8333 - loss: 0.6815 - val_accuracy: 0.0000e+00 - val_loss: 0.7107\n",
            "Epoch 6/10\n",
            "\u001b[1m1/1\u001b[0m \u001b[32m━━━━━━━━━━━━━━━━━━━━\u001b[0m\u001b[37m\u001b[0m \u001b[1m0s\u001b[0m 91ms/step - accuracy: 0.8333 - loss: 0.6778 - val_accuracy: 0.0000e+00 - val_loss: 0.7154\n",
            "Epoch 7/10\n",
            "\u001b[1m1/1\u001b[0m \u001b[32m━━━━━━━━━━━━━━━━━━━━\u001b[0m\u001b[37m\u001b[0m \u001b[1m0s\u001b[0m 89ms/step - accuracy: 0.8333 - loss: 0.6740 - val_accuracy: 0.0000e+00 - val_loss: 0.7201\n",
            "Epoch 8/10\n",
            "\u001b[1m1/1\u001b[0m \u001b[32m━━━━━━━━━━━━━━━━━━━━\u001b[0m\u001b[37m\u001b[0m \u001b[1m0s\u001b[0m 140ms/step - accuracy: 0.8333 - loss: 0.6703 - val_accuracy: 0.0000e+00 - val_loss: 0.7250\n",
            "Epoch 9/10\n",
            "\u001b[1m1/1\u001b[0m \u001b[32m━━━━━━━━━━━━━━━━━━━━\u001b[0m\u001b[37m\u001b[0m \u001b[1m0s\u001b[0m 88ms/step - accuracy: 0.8333 - loss: 0.6665 - val_accuracy: 0.0000e+00 - val_loss: 0.7298\n",
            "Epoch 10/10\n",
            "\u001b[1m1/1\u001b[0m \u001b[32m━━━━━━━━━━━━━━━━━━━━\u001b[0m\u001b[37m\u001b[0m \u001b[1m0s\u001b[0m 99ms/step - accuracy: 0.8333 - loss: 0.6627 - val_accuracy: 0.0000e+00 - val_loss: 0.7348\n"
          ]
        },
        {
          "output_type": "execute_result",
          "data": {
            "text/plain": [
              "<keras.src.callbacks.history.History at 0x7a6ef9fac310>"
            ]
          },
          "metadata": {},
          "execution_count": 15
        }
      ]
    },
    {
      "cell_type": "code",
      "source": [],
      "metadata": {
        "id": "oipqaCyDQABn"
      },
      "execution_count": null,
      "outputs": []
    }
  ]
}
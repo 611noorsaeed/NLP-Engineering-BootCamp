{
 "cells": [
  {
   "cell_type": "code",
   "execution_count": 11,
   "id": "b8e86e1e",
   "metadata": {},
   "outputs": [
    {
     "data": {
      "text/plain": [
       "array([['money gets money'],\n",
       "       ['people earn money'],\n",
       "       ['money make money']], dtype='<U17')"
      ]
     },
     "execution_count": 11,
     "metadata": {},
     "output_type": "execute_result"
    }
   ],
   "source": [
    "from sklearn.preprocessing import OneHotEncoder\n",
    "import numpy as np\n",
    "\n",
    "# Example sentences\n",
    "sentences = [\n",
    "    \"money gets money\",\n",
    "    \"people earn money\",\n",
    "    \"money make money\"\n",
    "]\n",
    "\n",
    "# Reshape the data for OneHotEncoder\n",
    "sentences = np.array(sentences).reshape(-1, 1)\n",
    "\n",
    "sentences"
   ]
  },
  {
   "cell_type": "code",
   "execution_count": 13,
   "id": "c3299518",
   "metadata": {},
   "outputs": [],
   "source": [
    "# Initialize OneHotEncoder\n",
    "\n",
    "# Parameters Explained\n",
    "# handle_unknown='ignore': Ensures that unseen labels during encoding won't raise an error.\n",
    "# sparse=False: Converts the result to a dense numpy array (default is a sparse matrix).\n",
    "# get_feature_names_out(): Retrieves the names of the one-hot encoded features.\n",
    "    \n",
    "# Key Difference:\n",
    "# Dense = All values stored.\n",
    "# Sparse = Only non-zero values stored.\n",
    "    \n",
    "encoder = OneHotEncoder(handle_unknown='ignore', sparse_output=False)\n",
    "\n",
    "# Fit and transform the data\n",
    "one_hot_encoded = encoder.fit_transform(sentences)"
   ]
  },
  {
   "cell_type": "code",
   "execution_count": 14,
   "id": "dc9196d9",
   "metadata": {},
   "outputs": [
    {
     "name": "stdout",
     "output_type": "stream",
     "text": [
      "One-Hot Encoded Matrix:\n",
      " [[1. 0. 0.]\n",
      " [0. 0. 1.]\n",
      " [0. 1. 0.]]\n",
      "\n",
      "Feature Names:\n",
      " ['Sentences_money gets money' 'Sentences_money make money'\n",
      " 'Sentences_people earn money']\n"
     ]
    }
   ],
   "source": [
    "# Feature names (column names after encoding)\n",
    "features = encoder.get_feature_names_out(['Sentences'])\n",
    "\n",
    "# Display results\n",
    "print(\"One-Hot Encoded Matrix:\\n\", one_hot_encoded)\n",
    "print(\"\\nFeature Names:\\n\", features)\n"
   ]
  },
  {
   "cell_type": "code",
   "execution_count": null,
   "id": "308085af",
   "metadata": {},
   "outputs": [],
   "source": []
  },
  {
   "cell_type": "code",
   "execution_count": null,
   "id": "4fd2456b",
   "metadata": {},
   "outputs": [],
   "source": []
  }
 ],
 "metadata": {
  "kernelspec": {
   "display_name": "Python 3 (ipykernel)",
   "language": "python",
   "name": "python3"
  },
  "language_info": {
   "codemirror_mode": {
    "name": "ipython",
    "version": 3
   },
   "file_extension": ".py",
   "mimetype": "text/x-python",
   "name": "python",
   "nbconvert_exporter": "python",
   "pygments_lexer": "ipython3",
   "version": "3.9.12"
  }
 },
 "nbformat": 4,
 "nbformat_minor": 5
}

{
 "cells": [
  {
   "cell_type": "code",
   "execution_count": 1,
   "id": "62022f7d",
   "metadata": {},
   "outputs": [
    {
     "name": "stdout",
     "output_type": "stream",
     "text": [
      "[[0.28281359 0.         0.50199209 0.         0.         0.\n",
      "  0.         0.         0.         0.         0.         0.50199209\n",
      "  0.         0.         0.40500406 0.50199209 0.         0.\n",
      "  0.         0.        ]\n",
      " [0.28281359 0.         0.         0.50199209 0.         0.\n",
      "  0.         0.         0.         0.40500406 0.         0.\n",
      "  0.         0.         0.         0.         0.         0.50199209\n",
      "  0.50199209 0.        ]\n",
      " [0.27113917 0.         0.         0.         0.48127008 0.48127008\n",
      "  0.         0.         0.         0.         0.         0.\n",
      "  0.48127008 0.48127008 0.         0.         0.         0.\n",
      "  0.         0.        ]\n",
      " [0.23766483 0.42185336 0.         0.         0.         0.\n",
      "  0.         0.         0.         0.34034864 0.42185336 0.\n",
      "  0.         0.         0.34034864 0.         0.42185336 0.\n",
      "  0.         0.42185336]\n",
      " [0.         0.         0.         0.         0.         0.\n",
      "  0.57735027 0.57735027 0.57735027 0.         0.         0.\n",
      "  0.         0.         0.         0.         0.         0.\n",
      "  0.         0.        ]]\n"
     ]
    }
   ],
   "source": [
    "from sklearn.feature_extraction.text import TfidfVectorizer\n",
    "\n",
    "# Sample sentences\n",
    "sentences = [\n",
    "    \"AI is transforming industries\",\n",
    "    \"AI is used in healthcare\",\n",
    "    \"Deep learning is part of AI\",\n",
    "    \"AI and healthcare are transforming the world\",\n",
    "    \"Another field is finance\"\n",
    "]\n",
    "\n",
    "# Initialize the vectorizer with custom parameters\n",
    "vectorizer = TfidfVectorizer(\n",
    "    max_df=0.85,    # Ignore words appearing in more than 85% of documents\n",
    "    min_df=1,       # Words must appear in at least one document\n",
    "    ngram_range=(1, 2),  # Include unigrams and bigrams \n",
    "    stop_words='english' # Remove common English stopwords\n",
    ")\n",
    "\n",
    "# Fit and transform the corpus\n",
    "X = vectorizer.fit_transform(sentences)\n",
    "\n",
    "# Convert to a dense array (if necessary) and print the result\n",
    "print(X.toarray())"
   ]
  },
  {
   "cell_type": "code",
   "execution_count": 2,
   "id": "b4586fc5",
   "metadata": {},
   "outputs": [
    {
     "name": "stdout",
     "output_type": "stream",
     "text": [
      "['ai' 'ai healthcare' 'ai transforming' 'ai used' 'deep' 'deep learning'\n",
      " 'field' 'field finance' 'finance' 'healthcare' 'healthcare transforming'\n",
      " 'industries' 'learning' 'learning ai' 'transforming'\n",
      " 'transforming industries' 'transforming world' 'used' 'used healthcare'\n",
      " 'world']\n"
     ]
    }
   ],
   "source": [
    "# Show the feature names (vocabulary)\n",
    "print(vectorizer.get_feature_names_out())\n"
   ]
  },
  {
   "cell_type": "code",
   "execution_count": 3,
   "id": "53c25c89",
   "metadata": {},
   "outputs": [
    {
     "name": "stdout",
     "output_type": "stream",
     "text": [
      "[1.18232156 2.09861229 2.09861229 2.09861229 2.09861229 2.09861229\n",
      " 2.09861229 2.09861229 2.09861229 1.69314718 2.09861229 2.09861229\n",
      " 2.09861229 2.09861229 1.69314718 2.09861229 2.09861229 2.09861229\n",
      " 2.09861229 2.09861229]\n"
     ]
    }
   ],
   "source": [
    "# Show the IDF values (optional)\n",
    "print(vectorizer.idf_)"
   ]
  },
  {
   "cell_type": "code",
   "execution_count": null,
   "id": "653ce2b5",
   "metadata": {},
   "outputs": [],
   "source": []
  }
 ],
 "metadata": {
  "kernelspec": {
   "display_name": "Python 3 (ipykernel)",
   "language": "python",
   "name": "python3"
  },
  "language_info": {
   "codemirror_mode": {
    "name": "ipython",
    "version": 3
   },
   "file_extension": ".py",
   "mimetype": "text/x-python",
   "name": "python",
   "nbconvert_exporter": "python",
   "pygments_lexer": "ipython3",
   "version": "3.9.12"
  }
 },
 "nbformat": 4,
 "nbformat_minor": 5
}

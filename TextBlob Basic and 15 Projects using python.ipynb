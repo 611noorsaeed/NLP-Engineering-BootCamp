{
 "cells": [
  {
   "cell_type": "markdown",
   "id": "5fea6b3a",
   "metadata": {},
   "source": [
    "# Basic\n",
    "\n",
    "Create a TextBlob         \n",
    "\n",
    "Part-of-speech Tagging\n",
    "\n",
    "Noun Phrase Extraction\n",
    "\n",
    "Sentiment Analysis\n",
    "\n",
    "Tokenization\n",
    "\n",
    "Words Inflection and Lemmatization\n",
    "\n",
    "WordNet Integration\n",
    "\n",
    "WordLists\n",
    "\n",
    "Spelling Correction\n",
    "\n",
    "Get Word and Noun Phrase Frequencies\n",
    "\n",
    "Parsing\n",
    "\n",
    "TextBlobs Are Like Python Strings!\n",
    "\n",
    "n-grams\n",
    "\n",
    "\n",
    "# End to End to Projects\n",
    "\n",
    "Sentiment Analysis on Customer Reviews\n",
    "\n",
    "Language Translation Tool\n",
    "\n",
    "Spell Checker for User Input\n",
    "\n",
    "Keyword Extraction from Text\n",
    "\n",
    "Text Summarization by Sentence Polarity\n",
    "\n",
    "Formality Checker for Text\n",
    "\n",
    "Subjectivity Analysis of Statements\n",
    "\n",
    "Sentence Tokenizer for Paragraphs\n",
    "\n",
    "Text Similarity Checker\n",
    "\n",
    "Text Complexity Scorer\n",
    "\n",
    "Parts of Speech (POS) Tagging\n",
    "\n",
    "Synonym Replacement Tool\n",
    "\n",
    "Custom Word Frequency Counter\n",
    "\n",
    "Named Entity Recognition (NER) using Custom Keywords\n",
    "\n",
    "Politeness Detector for Customer Support"
   ]
  },
  {
   "cell_type": "code",
   "execution_count": 14,
   "id": "28f4b025",
   "metadata": {},
   "outputs": [
    {
     "name": "stdout",
     "output_type": "stream",
     "text": [
      "Finished."
     ]
    },
    {
     "name": "stderr",
     "output_type": "stream",
     "text": [
      "[nltk_data] Downloading package brown to C:\\Users\\Noor\n",
      "[nltk_data]     Saeed\\AppData\\Roaming\\nltk_data...\n",
      "[nltk_data]   Unzipping corpora\\brown.zip.\n",
      "[nltk_data] Downloading package punkt to C:\\Users\\Noor\n",
      "[nltk_data]     Saeed\\AppData\\Roaming\\nltk_data...\n",
      "[nltk_data]   Package punkt is already up-to-date!\n",
      "[nltk_data] Downloading package wordnet to C:\\Users\\Noor\n",
      "[nltk_data]     Saeed\\AppData\\Roaming\\nltk_data...\n",
      "[nltk_data]   Package wordnet is already up-to-date!\n",
      "[nltk_data] Downloading package averaged_perceptron_tagger to\n",
      "[nltk_data]     C:\\Users\\Noor Saeed\\AppData\\Roaming\\nltk_data...\n",
      "[nltk_data]   Unzipping taggers\\averaged_perceptron_tagger.zip.\n",
      "[nltk_data] Downloading package conll2000 to C:\\Users\\Noor\n",
      "[nltk_data]     Saeed\\AppData\\Roaming\\nltk_data...\n",
      "[nltk_data]   Unzipping corpora\\conll2000.zip.\n",
      "[nltk_data] Downloading package movie_reviews to C:\\Users\\Noor\n",
      "[nltk_data]     Saeed\\AppData\\Roaming\\nltk_data...\n",
      "[nltk_data]   Unzipping corpora\\movie_reviews.zip.\n"
     ]
    },
    {
     "name": "stdout",
     "output_type": "stream",
     "text": [
      "\n"
     ]
    }
   ],
   "source": [
    "!pip install textblob\n",
    "!python -m textblob.download_corpora"
   ]
  },
  {
   "cell_type": "markdown",
   "id": "ddb1e699",
   "metadata": {},
   "source": [
    "# Create a TextBlob"
   ]
  },
  {
   "cell_type": "code",
   "execution_count": 15,
   "id": "43317443",
   "metadata": {},
   "outputs": [],
   "source": [
    "from textblob import TextBlob"
   ]
  },
  {
   "cell_type": "code",
   "execution_count": 16,
   "id": "1f4d1f68",
   "metadata": {},
   "outputs": [
    {
     "data": {
      "text/plain": [
       "TextBlob(\"Python is a high-level, general-purpose programming language.\")"
      ]
     },
     "execution_count": 16,
     "metadata": {},
     "output_type": "execute_result"
    }
   ],
   "source": [
    "wiki = TextBlob(\"Python is a high-level, general-purpose programming language.\")\n",
    "wiki"
   ]
  },
  {
   "cell_type": "markdown",
   "id": "7e4d9b2d",
   "metadata": {},
   "source": [
    "# Parts of speech Taggings\n",
    "\n",
    "Each POS tag represents the grammatical role of the word in the sentence. Here’s the full form of each tag from your list:\n",
    "\n",
    "\n",
    "NNP: Proper Noun, Singular (e.g., \"Python\")\n",
    "\n",
    "VBZ: Verb, 3rd person singular present (e.g., \"is\")\n",
    "\n",
    "DT: Determiner (e.g., \"a\")\n",
    "\n",
    "JJ: Adjective (e.g., \"high-level\", \"general-purpose\")\n",
    "\n",
    "NN: Noun, Singular or Mass (e.g., \"programming,\" \"language\")"
   ]
  },
  {
   "cell_type": "code",
   "execution_count": 17,
   "id": "d46f83a6",
   "metadata": {},
   "outputs": [
    {
     "data": {
      "text/plain": [
       "[('Python', 'NNP'),\n",
       " ('is', 'VBZ'),\n",
       " ('a', 'DT'),\n",
       " ('high-level', 'JJ'),\n",
       " ('general-purpose', 'JJ'),\n",
       " ('programming', 'NN'),\n",
       " ('language', 'NN')]"
      ]
     },
     "execution_count": 17,
     "metadata": {},
     "output_type": "execute_result"
    }
   ],
   "source": [
    "wiki.tags"
   ]
  },
  {
   "cell_type": "markdown",
   "id": "64ad657d",
   "metadata": {},
   "source": [
    "# Noun Phrase Extraction\n",
    "Similarly, noun phrases are accessed through the noun_phrases property"
   ]
  },
  {
   "cell_type": "code",
   "execution_count": 18,
   "id": "304c5129",
   "metadata": {},
   "outputs": [
    {
     "data": {
      "text/plain": [
       "WordList(['python'])"
      ]
     },
     "execution_count": 18,
     "metadata": {},
     "output_type": "execute_result"
    }
   ],
   "source": [
    "wiki.noun_phrases"
   ]
  },
  {
   "cell_type": "markdown",
   "id": "d8b29c3f",
   "metadata": {},
   "source": [
    "# Sentiment Analysis"
   ]
  },
  {
   "cell_type": "code",
   "execution_count": 19,
   "id": "5f06490e",
   "metadata": {},
   "outputs": [
    {
     "name": "stdout",
     "output_type": "stream",
     "text": [
      "Positive\n"
     ]
    }
   ],
   "source": [
    "testimonial = TextBlob(\"Textblob is amazingly simple to use. What great fun!\")\n",
    "\n",
    "if testimonial.sentiment[0] >=0.1:\n",
    "    print(\"Positive\")\n",
    "else:\n",
    "    print(\"Negative\")"
   ]
  },
  {
   "cell_type": "code",
   "execution_count": 20,
   "id": "1c48dc3c",
   "metadata": {},
   "outputs": [
    {
     "name": "stdout",
     "output_type": "stream",
     "text": [
      "Negative\n"
     ]
    }
   ],
   "source": [
    "testimonial = TextBlob(\"I hate to start learning complex concepts first\")\n",
    "\n",
    "if testimonial.sentiment[0] >=0.1:\n",
    "    print(\"Positive\")\n",
    "else:\n",
    "    print(\"Negative\")"
   ]
  },
  {
   "cell_type": "markdown",
   "id": "8d43af21",
   "metadata": {},
   "source": [
    "# Tokenization\n",
    "\n",
    "Word Base\n",
    "\n",
    "Sentence Base"
   ]
  },
  {
   "cell_type": "code",
   "execution_count": 22,
   "id": "503350cc",
   "metadata": {},
   "outputs": [
    {
     "data": {
      "text/plain": [
       "WordList(['Beautiful', 'is', 'better', 'than', 'ugly', 'Explicit', 'is', 'better', 'than', 'implicit', 'Simple', 'is', 'better', 'than', 'complex'])"
      ]
     },
     "execution_count": 22,
     "metadata": {},
     "output_type": "execute_result"
    }
   ],
   "source": [
    "zen = TextBlob(\n",
    "    \"Beautiful is better than ugly. \"\n",
    "    \"Explicit is better than implicit. \"\n",
    "    \"Simple is better than complex.\"\n",
    ")\n",
    "zen.words"
   ]
  },
  {
   "cell_type": "code",
   "execution_count": 23,
   "id": "b78516d3",
   "metadata": {},
   "outputs": [
    {
     "data": {
      "text/plain": [
       "[Sentence(\"Beautiful is better than ugly.\"),\n",
       " Sentence(\"Explicit is better than implicit.\"),\n",
       " Sentence(\"Simple is better than complex.\")]"
      ]
     },
     "execution_count": 23,
     "metadata": {},
     "output_type": "execute_result"
    }
   ],
   "source": [
    "zen.sentences"
   ]
  },
  {
   "cell_type": "markdown",
   "id": "9cd06a4f",
   "metadata": {},
   "source": [
    "# Words Inflection and Lemmatization"
   ]
  },
  {
   "cell_type": "code",
   "execution_count": 24,
   "id": "e093b23f",
   "metadata": {},
   "outputs": [
    {
     "data": {
      "text/plain": [
       "WordList(['Use', '4', 'spaces', 'per', 'indentation', 'level'])"
      ]
     },
     "execution_count": 24,
     "metadata": {},
     "output_type": "execute_result"
    }
   ],
   "source": [
    "sentence = TextBlob(\"Use 4 spaces per indentation level.\")\n",
    "sentence.words"
   ]
  },
  {
   "cell_type": "code",
   "execution_count": 25,
   "id": "6002f7a7",
   "metadata": {},
   "outputs": [
    {
     "data": {
      "text/plain": [
       "'space'"
      ]
     },
     "execution_count": 25,
     "metadata": {},
     "output_type": "execute_result"
    }
   ],
   "source": [
    "sentence.words[2].singularize()"
   ]
  },
  {
   "cell_type": "code",
   "execution_count": 26,
   "id": "f6b323de",
   "metadata": {},
   "outputs": [
    {
     "data": {
      "text/plain": [
       "'levels'"
      ]
     },
     "execution_count": 26,
     "metadata": {},
     "output_type": "execute_result"
    }
   ],
   "source": [
    "sentence.words[-1].pluralize()"
   ]
  },
  {
   "cell_type": "code",
   "execution_count": 39,
   "id": "0ed192ad",
   "metadata": {},
   "outputs": [
    {
     "data": {
      "text/plain": [
       "'place'"
      ]
     },
     "execution_count": 39,
     "metadata": {},
     "output_type": "execute_result"
    }
   ],
   "source": [
    "from textblob import Word\n",
    "w = Word(\"places\")\n",
    "w.lemmatize('n')"
   ]
  },
  {
   "cell_type": "code",
   "execution_count": 37,
   "id": "e8b0376e",
   "metadata": {},
   "outputs": [
    {
     "data": {
      "text/plain": [
       "'go'"
      ]
     },
     "execution_count": 37,
     "metadata": {},
     "output_type": "execute_result"
    }
   ],
   "source": [
    "w = Word(\"went\")\n",
    "w.lemmatize(\"v\")  # Pass in WordNet part of speech (verb)"
   ]
  },
  {
   "cell_type": "code",
   "execution_count": 38,
   "id": "ab74404b",
   "metadata": {},
   "outputs": [
    {
     "data": {
      "text/plain": [
       "'love'"
      ]
     },
     "execution_count": 38,
     "metadata": {},
     "output_type": "execute_result"
    }
   ],
   "source": [
    "w = Word(\"loving\")\n",
    "w.lemmatize(\"v\")  # Pass in WordNet part of speech (verb)"
   ]
  },
  {
   "cell_type": "markdown",
   "id": "58c195c6",
   "metadata": {},
   "source": [
    "# Wordnet integration"
   ]
  },
  {
   "cell_type": "code",
   "execution_count": 40,
   "id": "31752768",
   "metadata": {},
   "outputs": [
    {
     "data": {
      "text/plain": [
       "[Synset('topographic_point.n.01'),\n",
       " Synset('place.n.02'),\n",
       " Synset('place.n.03'),\n",
       " Synset('place.n.04'),\n",
       " Synset('stead.n.01'),\n",
       " Synset('place.n.06'),\n",
       " Synset('home.n.01'),\n",
       " Synset('position.n.06'),\n",
       " Synset('position.n.01'),\n",
       " Synset('place.n.10'),\n",
       " Synset('seat.n.01'),\n",
       " Synset('place.n.12'),\n",
       " Synset('place.n.13'),\n",
       " Synset('plaza.n.01'),\n",
       " Synset('place.n.15'),\n",
       " Synset('space.n.07'),\n",
       " Synset('put.v.01'),\n",
       " Synset('place.v.02'),\n",
       " Synset('rate.v.01'),\n",
       " Synset('locate.v.03'),\n",
       " Synset('place.v.05'),\n",
       " Synset('place.v.06'),\n",
       " Synset('target.v.01'),\n",
       " Synset('identify.v.01'),\n",
       " Synset('place.v.09'),\n",
       " Synset('set.v.09'),\n",
       " Synset('place.v.11'),\n",
       " Synset('place.v.12'),\n",
       " Synset('invest.v.01'),\n",
       " Synset('station.v.01'),\n",
       " Synset('place.v.15'),\n",
       " Synset('place.v.16')]"
      ]
     },
     "execution_count": 40,
     "metadata": {},
     "output_type": "execute_result"
    }
   ],
   "source": [
    "from textblob import Word\n",
    "from textblob.wordnet import VERB\n",
    "word = Word(\"places\")\n",
    "word.synsets"
   ]
  },
  {
   "cell_type": "code",
   "execution_count": 41,
   "id": "00db4d5a",
   "metadata": {},
   "outputs": [
    {
     "data": {
      "text/plain": [
       "[Synset('chop.v.05'),\n",
       " Synset('hack.v.02'),\n",
       " Synset('hack.v.03'),\n",
       " Synset('hack.v.04'),\n",
       " Synset('hack.v.05'),\n",
       " Synset('hack.v.06'),\n",
       " Synset('hack.v.07'),\n",
       " Synset('hack.v.08')]"
      ]
     },
     "execution_count": 41,
     "metadata": {},
     "output_type": "execute_result"
    }
   ],
   "source": [
    "Word(\"hack\").get_synsets(pos=VERB)"
   ]
  },
  {
   "cell_type": "code",
   "execution_count": 42,
   "id": "8e110daf",
   "metadata": {},
   "outputs": [
    {
     "data": {
      "text/plain": [
       "['a point located with respect to surface features of some region',\n",
       " 'any area set aside for a particular purpose',\n",
       " 'an abstract mental location',\n",
       " 'a general vicinity',\n",
       " 'the post or function properly or customarily occupied or served by another',\n",
       " 'a particular situation',\n",
       " 'where you live at a particular time',\n",
       " 'a job in an organization',\n",
       " 'the particular portion of space occupied by something',\n",
       " 'proper or designated social situation',\n",
       " 'a space reserved for sitting (as in a theater or on a train or airplane)',\n",
       " 'the passage that is being read',\n",
       " 'proper or appropriate position or location',\n",
       " 'a public square with room for pedestrians',\n",
       " 'an item on a list or in a sequence',\n",
       " 'a blank area',\n",
       " 'put into a certain place or abstract location',\n",
       " 'place somebody in a particular situation or location',\n",
       " 'assign a rank or rating to',\n",
       " 'assign a location to',\n",
       " 'to arrange for',\n",
       " 'take a place in a competition; often followed by an ordinal',\n",
       " 'intend (something) to move towards a certain goal',\n",
       " 'recognize as being; establish the identity of someone or something',\n",
       " 'assign to (a job or a home)',\n",
       " 'locate',\n",
       " 'estimate',\n",
       " 'identify the location or place of',\n",
       " 'make an investment',\n",
       " 'assign to a station',\n",
       " 'finish second or better in a horse or dog race',\n",
       " 'sing a note with the correct pitch']"
      ]
     },
     "execution_count": 42,
     "metadata": {},
     "output_type": "execute_result"
    }
   ],
   "source": [
    "Word(\"Place\").definitions"
   ]
  },
  {
   "cell_type": "markdown",
   "id": "f69099aa",
   "metadata": {},
   "source": [
    "# Spelling Correction & Checking"
   ]
  },
  {
   "cell_type": "code",
   "execution_count": 43,
   "id": "7c388a6e",
   "metadata": {},
   "outputs": [
    {
     "name": "stdout",
     "output_type": "stream",
     "text": [
      "I have good spelling!\n"
     ]
    }
   ],
   "source": [
    "b = TextBlob(\"I havv goood speling!\")\n",
    "print(b.correct())"
   ]
  },
  {
   "cell_type": "code",
   "execution_count": 46,
   "id": "8284d94a",
   "metadata": {},
   "outputs": [
    {
     "data": {
      "text/plain": [
       "[('lovely', 0.44776119402985076),\n",
       " ('lover', 0.3880597014925373),\n",
       " ('lovers', 0.13432835820895522),\n",
       " ('livery', 0.029850746268656716)]"
      ]
     },
     "execution_count": 46,
     "metadata": {},
     "output_type": "execute_result"
    }
   ],
   "source": [
    "w = Word(\"lovery\")\n",
    "w.spellcheck()"
   ]
  },
  {
   "cell_type": "code",
   "execution_count": 45,
   "id": "ee84a676",
   "metadata": {},
   "outputs": [
    {
     "data": {
      "text/plain": [
       "[('nice', 0.9636363636363636),\n",
       " ('nina', 0.01818181818181818),\n",
       " ('nick', 0.01818181818181818)]"
      ]
     },
     "execution_count": 45,
     "metadata": {},
     "output_type": "execute_result"
    }
   ],
   "source": [
    "w = Word(\"nica\")\n",
    "w.spellcheck()"
   ]
  },
  {
   "cell_type": "markdown",
   "id": "e84a3f1b",
   "metadata": {},
   "source": [
    "# Parsing\n",
    "\n",
    "Here's the breakdown of the tags in your example:\n",
    "\n",
    "Word: The actual word from the sentence.\n",
    "\n",
    "POS-tag: Part-of-speech tag, indicating the grammatical role of the word (e.g., \"CC\" for coordinating conjunction, \"RB\" for adverb, etc.).\n",
    "\n",
    "Chunk-tag: Indicates the beginning or continuation of a chunk (e.g., noun phrases, prepositional phrases). This uses B (beginning) and I (inside) tags to show chunk boundaries:\n",
    "\n",
    "B-NP: Beginning of a noun phrase\n",
    "\n",
    "I-NP: Inside a noun phrase\n",
    "\n",
    "B-PP: Beginning of a prepositional phrase\n",
    "\n",
    "B-ADVP: Beginning of an adverbial phrase\n",
    "\n",
    "O: Outside of any chunk\n",
    "\n",
    "Named-entity-tag: Marks named entities (e.g., organizations, locations) with specific tags. In your example, everything is tagged as O (Outside any named entity), meaning there are no named entities in this sentence."
   ]
  },
  {
   "cell_type": "code",
   "execution_count": 47,
   "id": "a08ec4b3",
   "metadata": {},
   "outputs": [
    {
     "name": "stdout",
     "output_type": "stream",
     "text": [
      "And/CC/O/O now/RB/B-ADVP/O for/IN/B-PP/B-PNP something/NN/B-NP/I-PNP completely/RB/B-ADJP/O different/JJ/I-ADJP/O ././O/O\n"
     ]
    }
   ],
   "source": [
    "b = TextBlob(\"And now for something completely different.\")\n",
    "print(b.parse())"
   ]
  },
  {
   "cell_type": "markdown",
   "id": "78ac508c",
   "metadata": {},
   "source": [
    "# n-gram (gram, bi-gram, tri-gram)"
   ]
  },
  {
   "cell_type": "code",
   "execution_count": 48,
   "id": "09b9faba",
   "metadata": {},
   "outputs": [
    {
     "data": {
      "text/plain": [
       "[WordList(['Now', 'is', 'better']),\n",
       " WordList(['is', 'better', 'than']),\n",
       " WordList(['better', 'than', 'never'])]"
      ]
     },
     "execution_count": 48,
     "metadata": {},
     "output_type": "execute_result"
    }
   ],
   "source": [
    "blob = TextBlob(\"Now is better than never.\")\n",
    "blob.ngrams(n=3)"
   ]
  },
  {
   "cell_type": "code",
   "execution_count": 49,
   "id": "c1c6fba7",
   "metadata": {},
   "outputs": [
    {
     "data": {
      "text/plain": [
       "[WordList(['Now']),\n",
       " WordList(['is']),\n",
       " WordList(['better']),\n",
       " WordList(['than']),\n",
       " WordList(['never'])]"
      ]
     },
     "execution_count": 49,
     "metadata": {},
     "output_type": "execute_result"
    }
   ],
   "source": [
    "blob.ngrams(n=1)"
   ]
  },
  {
   "cell_type": "code",
   "execution_count": 50,
   "id": "69195a8a",
   "metadata": {},
   "outputs": [
    {
     "data": {
      "text/plain": [
       "[WordList(['Now', 'is']),\n",
       " WordList(['is', 'better']),\n",
       " WordList(['better', 'than']),\n",
       " WordList(['than', 'never'])]"
      ]
     },
     "execution_count": 50,
     "metadata": {},
     "output_type": "execute_result"
    }
   ],
   "source": [
    "blob.ngrams(n=2)"
   ]
  },
  {
   "cell_type": "markdown",
   "id": "a6187440",
   "metadata": {},
   "source": [
    "# Project 1: Sentiment Analysis on Customer Reviews\n",
    "\n",
    "\n",
    "two possibilies\n",
    "\n",
    "Real Time Sentiment Detection\n",
    "\n",
    "Detection Sentiment from text (custom data)"
   ]
  },
  {
   "cell_type": "code",
   "execution_count": 7,
   "id": "09fc08c1",
   "metadata": {},
   "outputs": [
    {
     "name": "stdout",
     "output_type": "stream",
     "text": [
      "Enter your text......or press exit to leave   I love to watch moves\n",
      "\n",
      "\n",
      "Positive\n",
      "Enter your text......or press exit to leave   I wanna go to USA\n",
      "\n",
      "\n",
      "Neutral\n",
      "Enter your text......or press exit to leave   We don't like you and you are so ugly\n",
      "\n",
      "\n",
      "negative\n",
      "Enter your text......or press exit to leave   have good day\n",
      "\n",
      "\n",
      "Positive\n",
      "Enter your text......or press exit to leave   exit\n",
      "\n",
      "\n",
      "Neutral\n",
      "Good Bye\n"
     ]
    }
   ],
   "source": [
    "# Real Time Detection\n",
    "from textblob import TextBlob\n",
    "while True:\n",
    "    input_text = input(\"Enter your text......or press exit to leave   \")\n",
    "    print(\"\\n\")\n",
    "    text = TextBlob(input_text)\n",
    "    sentiment = text.sentiment.polarity\n",
    "    if sentiment > 0:\n",
    "        print(\"Positive\")\n",
    "    elif sentiment==0:\n",
    "        print(\"Neutral\")\n",
    "    else:\n",
    "        print(\"negative\")\n",
    "    \n",
    "    if input_text == \"exit\":\n",
    "        print(\"Good Bye\")\n",
    "        break"
   ]
  },
  {
   "cell_type": "code",
   "execution_count": 17,
   "id": "7e2e2e2f",
   "metadata": {},
   "outputs": [],
   "source": [
    "# on custom data\n",
    "import pandas as pd\n",
    "\n",
    "def sentiment_detection(text):\n",
    "    text = text.lower()\n",
    "    \n",
    "    blob_text = TextBlob(text)\n",
    "    \n",
    "    sentiment = blob_text.sentiment.polarity\n",
    "    \n",
    "    if sentiment > 0:\n",
    "        return \"positive\"\n",
    "    if sentiment < 0:\n",
    "        return \"negative\"\n",
    "    else:\n",
    "        return \"nuetral\""
   ]
  },
  {
   "cell_type": "code",
   "execution_count": 18,
   "id": "167cce81",
   "metadata": {},
   "outputs": [
    {
     "data": {
      "text/html": [
       "<div>\n",
       "<style scoped>\n",
       "    .dataframe tbody tr th:only-of-type {\n",
       "        vertical-align: middle;\n",
       "    }\n",
       "\n",
       "    .dataframe tbody tr th {\n",
       "        vertical-align: top;\n",
       "    }\n",
       "\n",
       "    .dataframe thead th {\n",
       "        text-align: right;\n",
       "    }\n",
       "</style>\n",
       "<table border=\"1\" class=\"dataframe\">\n",
       "  <thead>\n",
       "    <tr style=\"text-align: right;\">\n",
       "      <th></th>\n",
       "      <th>Customer name</th>\n",
       "      <th>Comments</th>\n",
       "    </tr>\n",
       "  </thead>\n",
       "  <tbody>\n",
       "    <tr>\n",
       "      <th>0</th>\n",
       "      <td>Rishikumar Thakur</td>\n",
       "      <td>Another Midrange killer Smartphone by Xiaomi\\n...</td>\n",
       "    </tr>\n",
       "    <tr>\n",
       "      <th>1</th>\n",
       "      <td>Raza ji</td>\n",
       "      <td>All ok but vry small size mobile</td>\n",
       "    </tr>\n",
       "    <tr>\n",
       "      <th>2</th>\n",
       "      <td>Vaibhav Patel</td>\n",
       "      <td>Quite good</td>\n",
       "    </tr>\n",
       "    <tr>\n",
       "      <th>3</th>\n",
       "      <td>Amazon Customer</td>\n",
       "      <td>Redmi has always have been the the king of bud...</td>\n",
       "    </tr>\n",
       "    <tr>\n",
       "      <th>4</th>\n",
       "      <td>Sudhakaran Wadakkancheri</td>\n",
       "      <td>worst product from MI. I am a hardcore fan of ...</td>\n",
       "    </tr>\n",
       "  </tbody>\n",
       "</table>\n",
       "</div>"
      ],
      "text/plain": [
       "              Customer name                                           Comments\n",
       "0         Rishikumar Thakur  Another Midrange killer Smartphone by Xiaomi\\n...\n",
       "1                   Raza ji                   All ok but vry small size mobile\n",
       "2             Vaibhav Patel                                         Quite good\n",
       "3           Amazon Customer  Redmi has always have been the the king of bud...\n",
       "4  Sudhakaran Wadakkancheri  worst product from MI. I am a hardcore fan of ..."
      ]
     },
     "execution_count": 18,
     "metadata": {},
     "output_type": "execute_result"
    }
   ],
   "source": [
    "df = pd.read_csv(\"redmi6.csv\", encoding='ISO-8859-1')\n",
    "df = df[['Customer name','Comments']]\n",
    "df.head()"
   ]
  },
  {
   "cell_type": "code",
   "execution_count": 19,
   "id": "4b82b84a",
   "metadata": {},
   "outputs": [],
   "source": [
    "df['label'] = df['Comments'].apply(sentiment_detection)"
   ]
  },
  {
   "cell_type": "code",
   "execution_count": 20,
   "id": "b4aa2d76",
   "metadata": {},
   "outputs": [
    {
     "data": {
      "text/html": [
       "<div>\n",
       "<style scoped>\n",
       "    .dataframe tbody tr th:only-of-type {\n",
       "        vertical-align: middle;\n",
       "    }\n",
       "\n",
       "    .dataframe tbody tr th {\n",
       "        vertical-align: top;\n",
       "    }\n",
       "\n",
       "    .dataframe thead th {\n",
       "        text-align: right;\n",
       "    }\n",
       "</style>\n",
       "<table border=\"1\" class=\"dataframe\">\n",
       "  <thead>\n",
       "    <tr style=\"text-align: right;\">\n",
       "      <th></th>\n",
       "      <th>Customer name</th>\n",
       "      <th>Comments</th>\n",
       "      <th>label</th>\n",
       "    </tr>\n",
       "  </thead>\n",
       "  <tbody>\n",
       "    <tr>\n",
       "      <th>0</th>\n",
       "      <td>Rishikumar Thakur</td>\n",
       "      <td>Another Midrange killer Smartphone by Xiaomi\\n...</td>\n",
       "      <td>positive</td>\n",
       "    </tr>\n",
       "    <tr>\n",
       "      <th>1</th>\n",
       "      <td>Raza ji</td>\n",
       "      <td>All ok but vry small size mobile</td>\n",
       "      <td>positive</td>\n",
       "    </tr>\n",
       "    <tr>\n",
       "      <th>2</th>\n",
       "      <td>Vaibhav Patel</td>\n",
       "      <td>Quite good</td>\n",
       "      <td>positive</td>\n",
       "    </tr>\n",
       "    <tr>\n",
       "      <th>3</th>\n",
       "      <td>Amazon Customer</td>\n",
       "      <td>Redmi has always have been the the king of bud...</td>\n",
       "      <td>positive</td>\n",
       "    </tr>\n",
       "    <tr>\n",
       "      <th>4</th>\n",
       "      <td>Sudhakaran Wadakkancheri</td>\n",
       "      <td>worst product from MI. I am a hardcore fan of ...</td>\n",
       "      <td>negative</td>\n",
       "    </tr>\n",
       "    <tr>\n",
       "      <th>...</th>\n",
       "      <td>...</td>\n",
       "      <td>...</td>\n",
       "      <td>...</td>\n",
       "    </tr>\n",
       "    <tr>\n",
       "      <th>275</th>\n",
       "      <td>Rahul</td>\n",
       "      <td>I like This Phone, Awesome look and design.\\nI...</td>\n",
       "      <td>positive</td>\n",
       "    </tr>\n",
       "    <tr>\n",
       "      <th>276</th>\n",
       "      <td>Sunil Soni</td>\n",
       "      <td>Product is avasome but invoice is note include...</td>\n",
       "      <td>nuetral</td>\n",
       "    </tr>\n",
       "    <tr>\n",
       "      <th>277</th>\n",
       "      <td>D.C.Padhi</td>\n",
       "      <td>Redmi Note4, Note5, now 6pro..It seems the old...</td>\n",
       "      <td>positive</td>\n",
       "    </tr>\n",
       "    <tr>\n",
       "      <th>278</th>\n",
       "      <td>Mahesh</td>\n",
       "      <td>I love mi</td>\n",
       "      <td>positive</td>\n",
       "    </tr>\n",
       "    <tr>\n",
       "      <th>279</th>\n",
       "      <td>Vinod</td>\n",
       "      <td>Same old configurations with higher price.\\nNo...</td>\n",
       "      <td>positive</td>\n",
       "    </tr>\n",
       "  </tbody>\n",
       "</table>\n",
       "<p>280 rows × 3 columns</p>\n",
       "</div>"
      ],
      "text/plain": [
       "                Customer name  \\\n",
       "0           Rishikumar Thakur   \n",
       "1                     Raza ji   \n",
       "2               Vaibhav Patel   \n",
       "3             Amazon Customer   \n",
       "4    Sudhakaran Wadakkancheri   \n",
       "..                        ...   \n",
       "275                     Rahul   \n",
       "276                Sunil Soni   \n",
       "277                 D.C.Padhi   \n",
       "278                    Mahesh   \n",
       "279                     Vinod   \n",
       "\n",
       "                                              Comments     label  \n",
       "0    Another Midrange killer Smartphone by Xiaomi\\n...  positive  \n",
       "1                     All ok but vry small size mobile  positive  \n",
       "2                                           Quite good  positive  \n",
       "3    Redmi has always have been the the king of bud...  positive  \n",
       "4    worst product from MI. I am a hardcore fan of ...  negative  \n",
       "..                                                 ...       ...  \n",
       "275  I like This Phone, Awesome look and design.\\nI...  positive  \n",
       "276  Product is avasome but invoice is note include...   nuetral  \n",
       "277  Redmi Note4, Note5, now 6pro..It seems the old...  positive  \n",
       "278                                          I love mi  positive  \n",
       "279  Same old configurations with higher price.\\nNo...  positive  \n",
       "\n",
       "[280 rows x 3 columns]"
      ]
     },
     "execution_count": 20,
     "metadata": {},
     "output_type": "execute_result"
    }
   ],
   "source": [
    "df"
   ]
  },
  {
   "cell_type": "code",
   "execution_count": null,
   "id": "afd732e3",
   "metadata": {},
   "outputs": [],
   "source": []
  }
 ],
 "metadata": {
  "kernelspec": {
   "display_name": "Python 3 (ipykernel)",
   "language": "python",
   "name": "python3"
  },
  "language_info": {
   "codemirror_mode": {
    "name": "ipython",
    "version": 3
   },
   "file_extension": ".py",
   "mimetype": "text/x-python",
   "name": "python",
   "nbconvert_exporter": "python",
   "pygments_lexer": "ipython3",
   "version": "3.9.12"
  }
 },
 "nbformat": 4,
 "nbformat_minor": 5
}

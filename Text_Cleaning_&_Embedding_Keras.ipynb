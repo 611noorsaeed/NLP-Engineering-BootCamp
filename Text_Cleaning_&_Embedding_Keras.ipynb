{
  "nbformat": 4,
  "nbformat_minor": 0,
  "metadata": {
    "colab": {
      "provenance": []
    },
    "kernelspec": {
      "name": "python3",
      "display_name": "Python 3"
    },
    "language_info": {
      "name": "python"
    }
  },
  "cells": [
    {
      "cell_type": "markdown",
      "source": [
        "\n",
        "\n",
        "# Steps:\n",
        "\n",
        "Lowercasing the sentence.\n",
        "\n",
        "Remove everything except letters using a regex pattern with re.sub.\n",
        "\n",
        "Splitting the sentence into individual words.\n",
        "\n",
        "Removing stopwords (like 'at', 'the', etc.).\n",
        "\n",
        "Stemming the words (reducing them to their root form).\n"
      ],
      "metadata": {
        "id": "uuzjPj5qj6bH"
      }
    },
    {
      "cell_type": "markdown",
      "source": [
        "# applying on single sentence"
      ],
      "metadata": {
        "id": "49ee45ZqkL0M"
      }
    },
    {
      "cell_type": "code",
      "execution_count": 12,
      "metadata": {
        "colab": {
          "base_uri": "https://localhost:8080/"
        },
        "id": "BqsUjeWKjdNH",
        "outputId": "3f30ce42-cbed-4afe-f1bb-f28d095b931f"
      },
      "outputs": [
        {
          "output_type": "stream",
          "name": "stderr",
          "text": [
            "[nltk_data] Downloading package stopwords to /root/nltk_data...\n",
            "[nltk_data]   Package stopwords is already up-to-date!\n"
          ]
        },
        {
          "output_type": "execute_result",
          "data": {
            "text/plain": [
              "True"
            ]
          },
          "metadata": {},
          "execution_count": 12
        }
      ],
      "source": [
        "import re\n",
        "from nltk.corpus import stopwords\n",
        "from nltk.stem import PorterStemmer\n",
        "import nltk\n",
        "\n",
        "\n",
        "# Sample sentence\n",
        "sentence = \"Traffic is I Light loving intelligently detected at 4th intersection! 3423423423 Check details here: https://example.com\"\n",
        "nltk.download('stopwords')"
      ]
    },
    {
      "cell_type": "code",
      "source": [
        "# Lowercase the sentence\n",
        "sentence = sentence.lower()\n",
        "sentence"
      ],
      "metadata": {
        "colab": {
          "base_uri": "https://localhost:8080/",
          "height": 36
        },
        "id": "fyhZYOCQkgOT",
        "outputId": "626a7a41-783b-48b0-dfc4-f640446512bb"
      },
      "execution_count": 13,
      "outputs": [
        {
          "output_type": "execute_result",
          "data": {
            "text/plain": [
              "'traffic is i light loving intelligently detected at 4th intersection! 3423423423 check details here: https://example.com'"
            ],
            "application/vnd.google.colaboratory.intrinsic+json": {
              "type": "string"
            }
          },
          "metadata": {},
          "execution_count": 13
        }
      ]
    },
    {
      "cell_type": "code",
      "source": [
        "# Remove everything except alphabetic letters\n",
        "sentence = re.sub(r'[^a-z\\s]', '', sentence)\n",
        "sentence"
      ],
      "metadata": {
        "colab": {
          "base_uri": "https://localhost:8080/",
          "height": 36
        },
        "id": "s87hFCXnkgRR",
        "outputId": "17b9bafb-2871-4374-8ab4-055f46a542b8"
      },
      "execution_count": 14,
      "outputs": [
        {
          "output_type": "execute_result",
          "data": {
            "text/plain": [
              "'traffic is i light loving intelligently detected at th intersection  check details here httpsexamplecom'"
            ],
            "application/vnd.google.colaboratory.intrinsic+json": {
              "type": "string"
            }
          },
          "metadata": {},
          "execution_count": 14
        }
      ]
    },
    {
      "cell_type": "code",
      "source": [
        "# Split the sentence into words\n",
        "words = sentence.split()\n",
        "words"
      ],
      "metadata": {
        "colab": {
          "base_uri": "https://localhost:8080/"
        },
        "id": "yeK0RVqykgUo",
        "outputId": "92618cf6-6408-4056-f706-95fce1121a3a"
      },
      "execution_count": 15,
      "outputs": [
        {
          "output_type": "execute_result",
          "data": {
            "text/plain": [
              "['traffic',\n",
              " 'is',\n",
              " 'i',\n",
              " 'light',\n",
              " 'loving',\n",
              " 'intelligently',\n",
              " 'detected',\n",
              " 'at',\n",
              " 'th',\n",
              " 'intersection',\n",
              " 'check',\n",
              " 'details',\n",
              " 'here',\n",
              " 'httpsexamplecom']"
            ]
          },
          "metadata": {},
          "execution_count": 15
        }
      ]
    },
    {
      "cell_type": "code",
      "source": [
        "\n",
        "# Remove stopwords (using NLTK's stopword list)\n",
        "stop_words = set(stopwords.words('english'))\n",
        "filtered_words = [word for word in words if word not in stop_words]\n",
        "\n",
        "filtered_words"
      ],
      "metadata": {
        "colab": {
          "base_uri": "https://localhost:8080/"
        },
        "id": "qNtAA5wcko2V",
        "outputId": "173e2831-01a0-4310-cd13-8ca829ca73bd"
      },
      "execution_count": 16,
      "outputs": [
        {
          "output_type": "execute_result",
          "data": {
            "text/plain": [
              "['traffic',\n",
              " 'light',\n",
              " 'loving',\n",
              " 'intelligently',\n",
              " 'detected',\n",
              " 'th',\n",
              " 'intersection',\n",
              " 'check',\n",
              " 'details',\n",
              " 'httpsexamplecom']"
            ]
          },
          "metadata": {},
          "execution_count": 16
        }
      ]
    },
    {
      "cell_type": "code",
      "source": [
        "# Initialize the stemmer\n",
        "stemmer = PorterStemmer()\n",
        "\n",
        "# Apply stemming to each word\n",
        "stemmed_words = [stemmer.stem(word) for word in filtered_words]\n",
        "\n",
        "# Final result\n",
        "print(\"Original Sentence: \", \"Traffic light detected at 4th intersection! Check details here: https://example.com\")\n",
        "print(\"Processed Sentence: \", \" \".join(stemmed_words))"
      ],
      "metadata": {
        "colab": {
          "base_uri": "https://localhost:8080/"
        },
        "id": "Q3bDa3ylko51",
        "outputId": "71bcb640-a420-4cb3-9b17-14c13c0df912"
      },
      "execution_count": 17,
      "outputs": [
        {
          "output_type": "stream",
          "name": "stdout",
          "text": [
            "Original Sentence:  Traffic light detected at 4th intersection! Check details here: https://example.com\n",
            "Processed Sentence:  traffic light love intellig detect th intersect check detail httpsexamplecom\n"
          ]
        }
      ]
    },
    {
      "cell_type": "markdown",
      "source": [
        "# applying on dataset"
      ],
      "metadata": {
        "id": "HNE4hCpHkVOH"
      }
    },
    {
      "cell_type": "code",
      "source": [
        "import re\n",
        "from nltk.corpus import stopwords\n",
        "from nltk.stem import PorterStemmer\n",
        "\n",
        "# Function to process sentences\n",
        "def process_sentences(sentences):\n",
        "    # Initialize the stemmer and stopwords\n",
        "    stop_words = set(stopwords.words('english'))\n",
        "    stemmer = PorterStemmer()\n",
        "\n",
        "    # Process each sentence\n",
        "    processed_sentences = []\n",
        "\n",
        "    for sentence in sentences:\n",
        "        # Lowercase the sentence\n",
        "        sentence = sentence.lower()\n",
        "\n",
        "        # Remove everything except alphabetic letters\n",
        "        sentence = re.sub(r'[^a-z\\s]', '', sentence)\n",
        "\n",
        "        # Split the sentence into words\n",
        "        words = sentence.split()\n",
        "\n",
        "        # Remove stopwords\n",
        "        filtered_words = [word for word in words if word not in stop_words]\n",
        "\n",
        "        # Apply stemming\n",
        "        stemmed_words = [stemmer.stem(word) for word in filtered_words]\n",
        "\n",
        "        # Join the words back into a sentence\n",
        "        processed_sentences.append(\" \".join(stemmed_words))\n",
        "\n",
        "    return processed_sentences\n",
        "\n",
        "# Example sentences to process\n",
        "sentences = [\n",
        "    \"Traffic light detected at 4th intersection! Check details here: https://example.com\",\n",
        "    \"Road signs indicate a detour due to construction near the city center.\",\n",
        "    \"Accidents were reported at the 10th street junction. Visit www.accidents.com for more info.\"\n",
        "]\n",
        "\n",
        "# Process the sentences\n",
        "processed = process_sentences(sentences)\n",
        "\n",
        "# Print processed sentences\n",
        "for i, sentence in enumerate(processed):\n",
        "    print(f\"Processed Sentence {i + 1}: {sentence}\")\n"
      ],
      "metadata": {
        "colab": {
          "base_uri": "https://localhost:8080/"
        },
        "id": "3j42MmhAkXXM",
        "outputId": "97a385e6-af78-4759-8b0a-540146a5e364"
      },
      "execution_count": 18,
      "outputs": [
        {
          "output_type": "stream",
          "name": "stdout",
          "text": [
            "Processed Sentence 1: traffic light detect th intersect check detail httpsexamplecom\n",
            "Processed Sentence 2: road sign indic detour due construct near citi center\n",
            "Processed Sentence 3: accid report th street junction visit wwwaccidentscom info\n"
          ]
        }
      ]
    },
    {
      "cell_type": "markdown",
      "source": [
        "# Tokenization (Embeddings)\n",
        "\n",
        "Steps:\n",
        "\n",
        "Tokenize the sentence into words.\n",
        "\n",
        "Convert each word into an integer index using Keras' Tokenizer.\n",
        "\n",
        "Apply embeddings using Embedding layer.\n",
        "\n",
        "Pad the tokenized sequence to ensure all sequences have the same length."
      ],
      "metadata": {
        "id": "EdatxRWwkz6-"
      }
    },
    {
      "cell_type": "code",
      "source": [
        "from tensorflow.keras.preprocessing.text import Tokenizer\n",
        "from tensorflow.keras.preprocessing.sequence import pad_sequences\n",
        "from tensorflow.keras.layers import Embedding\n",
        "import numpy as np\n",
        "\n",
        "# Example sentence with 5 words\n",
        "sentence = [\"This is a sample sentence\"] # 10"
      ],
      "metadata": {
        "id": "dakCBqrZkyS_"
      },
      "execution_count": 19,
      "outputs": []
    },
    {
      "cell_type": "code",
      "source": [
        "# Initialize the Tokenizer\n",
        "tokenizer = Tokenizer()\n",
        "\n",
        "# Fit the tokenizer on the sentence\n",
        "tokenizer.fit_on_texts(sentence)\n",
        "\n",
        "# Convert the sentence into a sequence of tokens (integer indices)\n",
        "sequences = tokenizer.texts_to_sequences(sentence)\n",
        "sequences"
      ],
      "metadata": {
        "colab": {
          "base_uri": "https://localhost:8080/"
        },
        "id": "tHwhMVrtlF-r",
        "outputId": "b0a33339-dc09-4588-8dae-418361e8ed3c"
      },
      "execution_count": 20,
      "outputs": [
        {
          "output_type": "execute_result",
          "data": {
            "text/plain": [
              "[[1, 2, 3, 4, 5]]"
            ]
          },
          "metadata": {},
          "execution_count": 20
        }
      ]
    },
    {
      "cell_type": "code",
      "source": [
        "# Pad the sequences (padding to a fixed length, here 10 for demonstration)\n",
        "padded_sequences = pad_sequences(sequences, padding='post', maxlen=10)\n",
        "padded_sequences"
      ],
      "metadata": {
        "colab": {
          "base_uri": "https://localhost:8080/"
        },
        "id": "XyLn2k3ZlK6S",
        "outputId": "a2e106ab-320a-42df-a5de-e56089d46e61"
      },
      "execution_count": 23,
      "outputs": [
        {
          "output_type": "execute_result",
          "data": {
            "text/plain": [
              "array([[1, 2, 3, 4, 5, 0, 0, 0, 0, 0]], dtype=int32)"
            ]
          },
          "metadata": {},
          "execution_count": 23
        }
      ]
    },
    {
      "cell_type": "code",
      "source": [
        "# Define the embedding layer (using random embeddings for demonstration)\n",
        "embedding_layer = Embedding(input_dim=len(tokenizer.word_index) + 1,\n",
        "                            output_dim=50, input_length=10)\n",
        "\n",
        "# Apply the embedding layer to the padded sequences\n",
        "embedded_sequences = embedding_layer(np.array(padded_sequences))\n",
        "\n",
        "# Print the padded sequences and embeddings\n",
        "print(\"Tokenized Sequences:\", sequences)\n",
        "print(\"Padded Sequences:\", padded_sequences)\n",
        "print(\"Embedded Sequences:\", embedded_sequences.numpy())"
      ],
      "metadata": {
        "colab": {
          "base_uri": "https://localhost:8080/"
        },
        "id": "HNMQ-KvdlV1R",
        "outputId": "6680ba9e-bfc2-479d-fc34-55ef6ef19494"
      },
      "execution_count": 24,
      "outputs": [
        {
          "output_type": "stream",
          "name": "stdout",
          "text": [
            "Tokenized Sequences: [[1, 2, 3, 4, 5]]\n",
            "Padded Sequences: [[1 2 3 4 5 0 0 0 0 0]]\n",
            "Embedded Sequences: [[[-0.02770307 -0.03901814  0.02857963 -0.03703789  0.00625979\n",
            "    0.03331539 -0.03900361  0.00171049 -0.01270552 -0.00782112\n",
            "    0.0462851   0.02584353 -0.00704037 -0.02377622 -0.01201887\n",
            "   -0.02059838 -0.04683933 -0.0069509  -0.04808817 -0.03649639\n",
            "   -0.02652862 -0.0153277  -0.02721206 -0.04391104  0.00010464\n",
            "   -0.03048887  0.01785128 -0.04152553 -0.0030301  -0.04668398\n",
            "   -0.03317467 -0.04377502  0.00439275 -0.00600898  0.03006338\n",
            "    0.00093473  0.00305034 -0.00997962  0.0395583   0.01745769\n",
            "    0.02237098 -0.04808968  0.03399346 -0.01484156  0.0298318\n",
            "    0.00585966  0.03861896 -0.04303154  0.00226866 -0.04007905]\n",
            "  [-0.01282611  0.01882828 -0.01180019 -0.02730849  0.02534733\n",
            "   -0.02903639 -0.04109927 -0.02885828  0.01317869 -0.02102422\n",
            "    0.04284105 -0.03320094  0.02794321 -0.00050126 -0.03020349\n",
            "   -0.00153934 -0.01677737  0.04621373 -0.01123105  0.03460467\n",
            "    0.03964236  0.04184103 -0.00507792 -0.00405648 -0.03227176\n",
            "   -0.03625961 -0.04565139  0.03749603  0.02812448 -0.00468609\n",
            "   -0.03727903 -0.01145869 -0.02443613  0.00210727 -0.00787874\n",
            "   -0.01638316 -0.01251193 -0.01865236  0.01822421 -0.01260066\n",
            "   -0.03658197 -0.03102429 -0.01123223  0.0277346   0.02028408\n",
            "   -0.03486294  0.00767924  0.00022054  0.02780814  0.01345279]\n",
            "  [-0.02281834 -0.02544869  0.0133774  -0.0156319   0.04876379\n",
            "    0.01140088  0.023047    0.03932956 -0.04774961  0.0293452\n",
            "   -0.00618441 -0.03808762  0.00675067 -0.01512394  0.03759719\n",
            "   -0.04502033  0.01833903  0.03615764  0.0303737   0.02933029\n",
            "   -0.02963976 -0.0432068   0.00698199 -0.01997367  0.01591161\n",
            "    0.02000438 -0.01562489  0.00338184 -0.03239095 -0.01168507\n",
            "   -0.00553043  0.02093088 -0.01983014 -0.00031916  0.00676466\n",
            "    0.00736791  0.03848008 -0.0215837  -0.0031829   0.00454906\n",
            "   -0.02071394 -0.03478124  0.0303703   0.00330504 -0.00852086\n",
            "    0.02310253 -0.03749203  0.03406045  0.01815095 -0.00550449]\n",
            "  [-0.00724883 -0.02981617  0.01584789 -0.02598075 -0.00755265\n",
            "    0.01155857  0.04046972  0.0056767  -0.01522965  0.0123876\n",
            "   -0.02191342 -0.00504547  0.03863576 -0.0406186   0.04991337\n",
            "   -0.02677636  0.04445288  0.03290737  0.02245123  0.04452351\n",
            "    0.04268606 -0.00619889 -0.00621166 -0.04347335 -0.03772861\n",
            "    0.01058185  0.04478985 -0.04945451  0.03852994  0.00022774\n",
            "    0.00559062 -0.00797331  0.00728574  0.04255478 -0.04392841\n",
            "    0.02946407  0.04364227 -0.04683427  0.04264182  0.00226492\n",
            "    0.04230627 -0.0033747  -0.00175112 -0.02595322 -0.02512189\n",
            "    0.01290618 -0.01138852 -0.0293422  -0.03116206  0.00721061]\n",
            "  [ 0.04948523 -0.02730807 -0.01911956 -0.02345291  0.03590648\n",
            "   -0.02439498 -0.00421588 -0.03709725  0.00182628  0.03082922\n",
            "    0.03582254 -0.01860477  0.04925604  0.03237048  0.00200387\n",
            "   -0.01335891 -0.03406774 -0.0252702   0.04092855  0.00155411\n",
            "   -0.01986047 -0.02444131 -0.01928438  0.02854094 -0.01601451\n",
            "    0.03319148  0.03929991 -0.01993122  0.04636103  0.02896898\n",
            "    0.03751239  0.04027293 -0.00126778  0.00404165  0.01169996\n",
            "   -0.02406929 -0.04888097  0.00821283 -0.04990456  0.04859124\n",
            "   -0.04269178  0.04021765  0.01513777 -0.04856309 -0.01258276\n",
            "    0.03797246 -0.01992695  0.03210844  0.04700946 -0.00731714]\n",
            "  [ 0.0472622   0.03605977 -0.03054849  0.02567912 -0.03685409\n",
            "    0.02449452 -0.04416938  0.00494026  0.01085972  0.00546686\n",
            "   -0.01844542  0.00376134  0.01961005 -0.04560902  0.04275156\n",
            "    0.04276242 -0.03335426  0.02347526  0.04235114  0.02014617\n",
            "    0.00670177 -0.04852687  0.0012112   0.0196426  -0.00858734\n",
            "   -0.00661125  0.04696241 -0.03377159  0.03236454  0.00300541\n",
            "    0.04879406  0.01811173 -0.04654516  0.04395951 -0.0301548\n",
            "   -0.01751959  0.03549096  0.0057798   0.00680357 -0.03322517\n",
            "    0.03933772 -0.00578504  0.01085206 -0.03470919 -0.04897748\n",
            "    0.04167711  0.01452717 -0.00374318  0.03952068  0.00404664]\n",
            "  [ 0.0472622   0.03605977 -0.03054849  0.02567912 -0.03685409\n",
            "    0.02449452 -0.04416938  0.00494026  0.01085972  0.00546686\n",
            "   -0.01844542  0.00376134  0.01961005 -0.04560902  0.04275156\n",
            "    0.04276242 -0.03335426  0.02347526  0.04235114  0.02014617\n",
            "    0.00670177 -0.04852687  0.0012112   0.0196426  -0.00858734\n",
            "   -0.00661125  0.04696241 -0.03377159  0.03236454  0.00300541\n",
            "    0.04879406  0.01811173 -0.04654516  0.04395951 -0.0301548\n",
            "   -0.01751959  0.03549096  0.0057798   0.00680357 -0.03322517\n",
            "    0.03933772 -0.00578504  0.01085206 -0.03470919 -0.04897748\n",
            "    0.04167711  0.01452717 -0.00374318  0.03952068  0.00404664]\n",
            "  [ 0.0472622   0.03605977 -0.03054849  0.02567912 -0.03685409\n",
            "    0.02449452 -0.04416938  0.00494026  0.01085972  0.00546686\n",
            "   -0.01844542  0.00376134  0.01961005 -0.04560902  0.04275156\n",
            "    0.04276242 -0.03335426  0.02347526  0.04235114  0.02014617\n",
            "    0.00670177 -0.04852687  0.0012112   0.0196426  -0.00858734\n",
            "   -0.00661125  0.04696241 -0.03377159  0.03236454  0.00300541\n",
            "    0.04879406  0.01811173 -0.04654516  0.04395951 -0.0301548\n",
            "   -0.01751959  0.03549096  0.0057798   0.00680357 -0.03322517\n",
            "    0.03933772 -0.00578504  0.01085206 -0.03470919 -0.04897748\n",
            "    0.04167711  0.01452717 -0.00374318  0.03952068  0.00404664]\n",
            "  [ 0.0472622   0.03605977 -0.03054849  0.02567912 -0.03685409\n",
            "    0.02449452 -0.04416938  0.00494026  0.01085972  0.00546686\n",
            "   -0.01844542  0.00376134  0.01961005 -0.04560902  0.04275156\n",
            "    0.04276242 -0.03335426  0.02347526  0.04235114  0.02014617\n",
            "    0.00670177 -0.04852687  0.0012112   0.0196426  -0.00858734\n",
            "   -0.00661125  0.04696241 -0.03377159  0.03236454  0.00300541\n",
            "    0.04879406  0.01811173 -0.04654516  0.04395951 -0.0301548\n",
            "   -0.01751959  0.03549096  0.0057798   0.00680357 -0.03322517\n",
            "    0.03933772 -0.00578504  0.01085206 -0.03470919 -0.04897748\n",
            "    0.04167711  0.01452717 -0.00374318  0.03952068  0.00404664]\n",
            "  [ 0.0472622   0.03605977 -0.03054849  0.02567912 -0.03685409\n",
            "    0.02449452 -0.04416938  0.00494026  0.01085972  0.00546686\n",
            "   -0.01844542  0.00376134  0.01961005 -0.04560902  0.04275156\n",
            "    0.04276242 -0.03335426  0.02347526  0.04235114  0.02014617\n",
            "    0.00670177 -0.04852687  0.0012112   0.0196426  -0.00858734\n",
            "   -0.00661125  0.04696241 -0.03377159  0.03236454  0.00300541\n",
            "    0.04879406  0.01811173 -0.04654516  0.04395951 -0.0301548\n",
            "   -0.01751959  0.03549096  0.0057798   0.00680357 -0.03322517\n",
            "    0.03933772 -0.00578504  0.01085206 -0.03470919 -0.04897748\n",
            "    0.04167711  0.01452717 -0.00374318  0.03952068  0.00404664]]]\n"
          ]
        },
        {
          "output_type": "stream",
          "name": "stderr",
          "text": [
            "/usr/local/lib/python3.11/dist-packages/keras/src/layers/core/embedding.py:90: UserWarning: Argument `input_length` is deprecated. Just remove it.\n",
            "  warnings.warn(\n"
          ]
        }
      ]
    },
    {
      "cell_type": "code",
      "source": [],
      "metadata": {
        "id": "XE_ZORrLlbLJ"
      },
      "execution_count": null,
      "outputs": []
    }
  ]
}